{
 "cells": [
  {
   "cell_type": "markdown",
   "id": "db09fb29-2f86-4e98-9411-a5b228841102",
   "metadata": {},
   "source": [
    "## eye-tracking experiments"
   ]
  },
  {
   "cell_type": "code",
   "execution_count": 1,
   "id": "237fbb3c",
   "metadata": {},
   "outputs": [
    {
     "name": "stderr",
     "output_type": "stream",
     "text": [
      "D:\\apps\\python64b3.9\\lib\\site-packages\\scipy\\__init__.py:146: UserWarning: A NumPy version >=1.16.5 and <1.23.0 is required for this version of SciPy (detected version 1.26.4\n",
      "  warnings.warn(f\"A NumPy version >={np_minversion} and <{np_maxversion}\"\n"
     ]
    }
   ],
   "source": [
    "import numpy as np\n",
    "import pandas as pd\n",
    "import os\n",
    "from sklearn.preprocessing import OneHotEncoder\n",
    "from sklearn.model_selection import train_test_split\n",
    "from sklearn.preprocessing import MinMaxScaler"
   ]
  },
  {
   "cell_type": "markdown",
   "id": "9efc5c87-d965-4ceb-9c1d-057ca9856e6e",
   "metadata": {},
   "source": [
    "variables"
   ]
  },
  {
   "cell_type": "code",
   "execution_count": 2,
   "id": "07d25239-e6a9-4593-baf7-a4b7c18bef60",
   "metadata": {},
   "outputs": [],
   "source": [
    "features = [\n",
    "    'Category Right',\n",
    "    'Category Left',\n",
    "    'Point of Regard Right X [px]',\n",
    "    'Point of Regard Right Y [px]',\n",
    "    'Point of Regard Left X [px]',\n",
    "    'Point of Regard Left Y [px]'\n",
    "]\n",
    "categorical = {\n",
    "    'Category Right': ['Blink', 'Saccade', 'Fixation'],\n",
    "    'Category Left': ['Blink', 'Saccade', 'Fixation']\n",
    "}"
   ]
  },
  {
   "cell_type": "markdown",
   "id": "788d70ff-a739-4ec6-bbb6-0f0d35cbd983",
   "metadata": {},
   "source": [
    "load data"
   ]
  },
  {
   "cell_type": "code",
   "execution_count": 3,
   "id": "624ce725",
   "metadata": {
    "scrolled": false
   },
   "outputs": [
    {
     "name": "stderr",
     "output_type": "stream",
     "text": [
      "D:\\apps\\python64b3.9\\lib\\site-packages\\IPython\\core\\interactiveshell.py:3457: DtypeWarning: Columns (14,15,16,17,18,23,24,25,26,27,28,29,30,31) have mixed types.Specify dtype option on import or set low_memory=False.\n",
      "  exec(code_obj, self.user_global_ns, self.user_ns)\n",
      "D:\\apps\\python64b3.9\\lib\\site-packages\\IPython\\core\\interactiveshell.py:3457: DtypeWarning: Columns (15) have mixed types.Specify dtype option on import or set low_memory=False.\n",
      "  exec(code_obj, self.user_global_ns, self.user_ns)\n",
      "D:\\apps\\python64b3.9\\lib\\site-packages\\IPython\\core\\interactiveshell.py:3457: DtypeWarning: Columns (16,17,18,19,20,21,22,23,24,25,28,29,30,31,32,33,34,35,36,37,38,39,40,41,42,43,44) have mixed types.Specify dtype option on import or set low_memory=False.\n",
      "  exec(code_obj, self.user_global_ns, self.user_ns)\n"
     ]
    }
   ],
   "source": [
    "dfs = []\n",
    "for file in os.listdir('split/'):\n",
    "    dfs.append(pd.read_csv('split/' + file))\n",
    "# dfs[24]"
   ]
  },
  {
   "cell_type": "code",
   "execution_count": 117,
   "id": "45eecf99",
   "metadata": {},
   "outputs": [],
   "source": [
    "# optional\n",
    "instances = pd.concat([df[['Participant', 'Stimulus']].drop_duplicates() for df in dfs], ignore_index=True)\n",
    "# instances"
   ]
  },
  {
   "cell_type": "code",
   "execution_count": 118,
   "id": "69169b5a",
   "metadata": {},
   "outputs": [],
   "source": [
    "# optional\n",
    "chopped = []\n",
    "for df in dfs:\n",
    "    grouped = df.groupby(['Participant', 'Stimulus'])\n",
    "    for name, group in grouped:\n",
    "        chopped.append(group[['Participant', 'Stimulus']])\n",
    "        # print(group[['Participant', 'Stimulus']])"
   ]
  },
  {
   "cell_type": "code",
   "execution_count": 119,
   "id": "66917a20",
   "metadata": {},
   "outputs": [
    {
     "data": {
      "text/plain": [
       "2909"
      ]
     },
     "execution_count": 119,
     "metadata": {},
     "output_type": "execute_result"
    }
   ],
   "source": [
    "# optional\n",
    "len(chopped)"
   ]
  },
  {
   "cell_type": "markdown",
   "id": "1b05d3f0-7421-4e54-9cf9-b928a48424a1",
   "metadata": {},
   "source": [
    "Participant data"
   ]
  },
  {
   "cell_type": "code",
   "execution_count": 4,
   "id": "ee8eecd5-505a-411f-87b4-57eea10920ce",
   "metadata": {},
   "outputs": [],
   "source": [
    "participants = pd.read_csv('Metadata_Participants.csv')"
   ]
  },
  {
   "cell_type": "code",
   "execution_count": null,
   "id": "d8b84746-646f-445d-9ce9-c0c84e0820f2",
   "metadata": {},
   "outputs": [],
   "source": []
  },
  {
   "cell_type": "markdown",
   "id": "0c9682c4-1823-49f6-b12a-b0277c2e60b3",
   "metadata": {},
   "source": [
    "classes"
   ]
  },
  {
   "cell_type": "code",
   "execution_count": 5,
   "id": "1d44a26b-4dee-4926-b612-833ad32d6979",
   "metadata": {},
   "outputs": [],
   "source": [
    "class experiment:\n",
    "    def __init__(self, df, parti, stimu, asd):\n",
    "        self.data = df\n",
    "        self.participant = parti\n",
    "        self.stimulus = stimu\n",
    "        self.asd = (asd == 'ASD')\n",
    "        \n",
    "        # extract other frame-independent info\n",
    "        self.trackRatio = self.data['Tracking Ratio [%]'][0]\n",
    "\n",
    "    def preprocess(self):\n",
    "\n",
    "        # delete columns that are information outputs\n",
    "        self.data = self.data.drop(index=0)\n",
    "        self.data = self.data.reset_index(drop=True)\n",
    "        \n",
    "        # drop the unused columns\n",
    "        fs = list(self.data.columns)\n",
    "        for f in fs:\n",
    "            if f not in features: self.data.drop(columns=[f], inplace=True)\n",
    "\n",
    "        # some data are missing Category Left. Copy Category Right over if that's the case.\n",
    "        if 'Category Left' not in self.data.columns:\n",
    "            self.data['Category Left'] = self.data['Category Right']\n",
    "    \n",
    "        # one hot encoding\n",
    "        result = pd.DataFrame()\n",
    "        for category in categorical:\n",
    "            self.data[[category]] = self.data[[category]].replace('-', 'Blink') # replace all unwanted categories with `Blink`\n",
    "            self.data[[category]] = self.data[[category]].replace('Separator', 'Blink')\n",
    "            self.data[[category]] = self.data[[category]].replace('Left Click', 'Blink')\n",
    "            self.data[[category]] = self.data[[category]].replace('Right Click', 'Blink')\n",
    "            \n",
    "            encoder = OneHotEncoder(categories=[categorical[category]])\n",
    "            encoder.fit(self.data[[category]])\n",
    "            OHE = encoder.transform(self.data[[category]]).toarray()\n",
    "            OHEDF = pd.DataFrame(OHE, columns=encoder.get_feature_names_out())\n",
    "            \n",
    "#             print(result.shape, OHEDF.shape)\n",
    "            result = pd.concat([result, OHEDF], axis=1)\n",
    "        \n",
    "#         print(result.shape, OHEDF.shape)\n",
    "        self.data = pd.concat([self.data, result], axis=1)\n",
    "    \n",
    "        for c in categorical:\n",
    "            self.data.drop(columns=[c], inplace=True)"
   ]
  },
  {
   "cell_type": "code",
   "execution_count": 6,
   "id": "d7ca1e3d-d597-4c21-b968-b19a380d3c8e",
   "metadata": {
    "scrolled": true
   },
   "outputs": [],
   "source": [
    "experiments = []\n",
    "\n",
    "for df in dfs:\n",
    "\n",
    "    # participant\n",
    "    p = df['Participant'][0]\n",
    "    if p == 'Unidentified(Neg)': p = -1\n",
    "    elif p == 'Unidentified(Pos)': p = 0\n",
    "\n",
    "    # stimulus\n",
    "    s = df['Stimulus'][0]\n",
    "\n",
    "    # class\n",
    "    if p == -1: c = 'TD'\n",
    "    elif p == 0: c = 'ASD'\n",
    "    else: c = participants['Class'][p - 1]\n",
    "\n",
    "    # call constructor\n",
    "    experiments.append(experiment(df, p, s, c))"
   ]
  },
  {
   "cell_type": "code",
   "execution_count": 7,
   "id": "7ab013da-5740-44ef-9261-f6cfa197b323",
   "metadata": {
    "scrolled": true
   },
   "outputs": [],
   "source": [
    "c = 0\n",
    "for exp in experiments:\n",
    "#     print(c)\n",
    "    exp.preprocess()\n",
    "    c += 1"
   ]
  },
  {
   "cell_type": "code",
   "execution_count": 23,
   "id": "9e39ba55",
   "metadata": {},
   "outputs": [
    {
     "ename": "ValueError",
     "evalue": "all input arrays must have the same shape",
     "output_type": "error",
     "traceback": [
      "\u001b[1;31m---------------------------------------------------------------------------\u001b[0m",
      "\u001b[1;31mValueError\u001b[0m                                Traceback (most recent call last)",
      "\u001b[1;32m~\\AppData\\Local\\Temp/ipykernel_13040/2076381385.py\u001b[0m in \u001b[0;36m<module>\u001b[1;34m\u001b[0m\n\u001b[0;32m      6\u001b[0m \u001b[0mmax_time\u001b[0m \u001b[1;33m=\u001b[0m \u001b[0mmax\u001b[0m\u001b[1;33m(\u001b[0m\u001b[1;33m[\u001b[0m\u001b[0mexp\u001b[0m\u001b[1;33m.\u001b[0m\u001b[0mdata\u001b[0m\u001b[1;33m.\u001b[0m\u001b[0mshape\u001b[0m\u001b[1;33m[\u001b[0m\u001b[1;36m0\u001b[0m\u001b[1;33m]\u001b[0m \u001b[1;32mfor\u001b[0m \u001b[0mexp\u001b[0m \u001b[1;32min\u001b[0m \u001b[0mexperiments\u001b[0m\u001b[1;33m]\u001b[0m\u001b[1;33m)\u001b[0m\u001b[1;33m\u001b[0m\u001b[1;33m\u001b[0m\u001b[0m\n\u001b[0;32m      7\u001b[0m \u001b[0mpadded\u001b[0m \u001b[1;33m=\u001b[0m \u001b[1;33m[\u001b[0m\u001b[0mnp\u001b[0m\u001b[1;33m.\u001b[0m\u001b[0mpad\u001b[0m\u001b[1;33m(\u001b[0m\u001b[0mexp\u001b[0m\u001b[1;33m.\u001b[0m\u001b[0mdata\u001b[0m\u001b[1;33m.\u001b[0m\u001b[0mvalues\u001b[0m\u001b[1;33m,\u001b[0m \u001b[1;33m(\u001b[0m\u001b[1;33m(\u001b[0m\u001b[1;36m0\u001b[0m\u001b[1;33m,\u001b[0m \u001b[0mmax_time\u001b[0m \u001b[1;33m-\u001b[0m \u001b[0mexp\u001b[0m\u001b[1;33m.\u001b[0m\u001b[0mdata\u001b[0m\u001b[1;33m.\u001b[0m\u001b[0mshape\u001b[0m\u001b[1;33m[\u001b[0m\u001b[1;36m0\u001b[0m\u001b[1;33m]\u001b[0m\u001b[1;33m)\u001b[0m\u001b[1;33m,\u001b[0m \u001b[1;33m(\u001b[0m\u001b[1;36m0\u001b[0m\u001b[1;33m,\u001b[0m \u001b[1;36m0\u001b[0m\u001b[1;33m)\u001b[0m\u001b[1;33m)\u001b[0m\u001b[1;33m,\u001b[0m \u001b[0mmode\u001b[0m\u001b[1;33m=\u001b[0m\u001b[1;34m'constant'\u001b[0m\u001b[1;33m)\u001b[0m \u001b[1;32mfor\u001b[0m \u001b[0mexp\u001b[0m \u001b[1;32min\u001b[0m \u001b[0mexperiments\u001b[0m\u001b[1;33m]\u001b[0m\u001b[1;33m\u001b[0m\u001b[1;33m\u001b[0m\u001b[0m\n\u001b[1;32m----> 8\u001b[1;33m \u001b[0mdata\u001b[0m \u001b[1;33m=\u001b[0m \u001b[0mnp\u001b[0m\u001b[1;33m.\u001b[0m\u001b[0mstack\u001b[0m\u001b[1;33m(\u001b[0m\u001b[0mpadded\u001b[0m\u001b[1;33m,\u001b[0m \u001b[0maxis\u001b[0m\u001b[1;33m=\u001b[0m\u001b[1;36m0\u001b[0m\u001b[1;33m)\u001b[0m\u001b[1;33m\u001b[0m\u001b[1;33m\u001b[0m\u001b[0m\n\u001b[0m\u001b[0;32m      9\u001b[0m \u001b[1;33m\u001b[0m\u001b[0m\n\u001b[0;32m     10\u001b[0m \u001b[0mlabels\u001b[0m \u001b[1;33m=\u001b[0m \u001b[0mnp\u001b[0m\u001b[1;33m.\u001b[0m\u001b[0marray\u001b[0m\u001b[1;33m(\u001b[0m\u001b[1;33m[\u001b[0m\u001b[1;36m1\u001b[0m \u001b[1;32mif\u001b[0m \u001b[0mexp\u001b[0m\u001b[1;33m.\u001b[0m\u001b[0masd\u001b[0m \u001b[1;32melse\u001b[0m \u001b[1;36m0\u001b[0m \u001b[1;32mfor\u001b[0m \u001b[0mexp\u001b[0m \u001b[1;32min\u001b[0m \u001b[0mexperiments\u001b[0m\u001b[1;33m]\u001b[0m\u001b[1;33m)\u001b[0m\u001b[1;33m\u001b[0m\u001b[1;33m\u001b[0m\u001b[0m\n",
      "\u001b[1;32mD:\\apps\\python64b3.9\\lib\\site-packages\\numpy\\core\\shape_base.py\u001b[0m in \u001b[0;36mstack\u001b[1;34m(arrays, axis, out, dtype, casting)\u001b[0m\n\u001b[0;32m    447\u001b[0m     \u001b[0mshapes\u001b[0m \u001b[1;33m=\u001b[0m \u001b[1;33m{\u001b[0m\u001b[0marr\u001b[0m\u001b[1;33m.\u001b[0m\u001b[0mshape\u001b[0m \u001b[1;32mfor\u001b[0m \u001b[0marr\u001b[0m \u001b[1;32min\u001b[0m \u001b[0marrays\u001b[0m\u001b[1;33m}\u001b[0m\u001b[1;33m\u001b[0m\u001b[1;33m\u001b[0m\u001b[0m\n\u001b[0;32m    448\u001b[0m     \u001b[1;32mif\u001b[0m \u001b[0mlen\u001b[0m\u001b[1;33m(\u001b[0m\u001b[0mshapes\u001b[0m\u001b[1;33m)\u001b[0m \u001b[1;33m!=\u001b[0m \u001b[1;36m1\u001b[0m\u001b[1;33m:\u001b[0m\u001b[1;33m\u001b[0m\u001b[1;33m\u001b[0m\u001b[0m\n\u001b[1;32m--> 449\u001b[1;33m         \u001b[1;32mraise\u001b[0m \u001b[0mValueError\u001b[0m\u001b[1;33m(\u001b[0m\u001b[1;34m'all input arrays must have the same shape'\u001b[0m\u001b[1;33m)\u001b[0m\u001b[1;33m\u001b[0m\u001b[1;33m\u001b[0m\u001b[0m\n\u001b[0m\u001b[0;32m    450\u001b[0m \u001b[1;33m\u001b[0m\u001b[0m\n\u001b[0;32m    451\u001b[0m     \u001b[0mresult_ndim\u001b[0m \u001b[1;33m=\u001b[0m \u001b[0marrays\u001b[0m\u001b[1;33m[\u001b[0m\u001b[1;36m0\u001b[0m\u001b[1;33m]\u001b[0m\u001b[1;33m.\u001b[0m\u001b[0mndim\u001b[0m \u001b[1;33m+\u001b[0m \u001b[1;36m1\u001b[0m\u001b[1;33m\u001b[0m\u001b[1;33m\u001b[0m\u001b[0m\n",
      "\u001b[1;31mValueError\u001b[0m: all input arrays must have the same shape"
     ]
    }
   ],
   "source": [
    "# Example time series data\n",
    "# data = np.array([[i+j for j in range(5)] for i in range(100)])\n",
    "# labels = np.array([i for i in range(100)])\n",
    "\n",
    "# actual time series data\n",
    "max_time = max([exp.data.shape[0] for exp in experiments])\n",
    "padded = [np.pad(exp.data.values, ((0, max_time - exp.data.shape[0]), (0, 0)), mode='constant') for exp in experiments]\n",
    "data = np.stack(padded, axis=0)\n",
    "    \n",
    "labels = np.array([1 if exp.asd else 0 for exp in experiments])"
   ]
  },
  {
   "cell_type": "code",
   "execution_count": 19,
   "id": "e1f18e9f",
   "metadata": {},
   "outputs": [
    {
     "data": {
      "text/plain": [
       "array([['0.0000', '0.0000', '0.0000', ..., 1.0, 0.0, 0.0],\n",
       "       ['0.0000', '0.0000', '0.0000', ..., 1.0, 0.0, 0.0],\n",
       "       ['0.0000', '0.0000', '0.0000', ..., 1.0, 0.0, 0.0],\n",
       "       ...,\n",
       "       ['0.0000', '0.0000', '0.0000', ..., 1.0, 0.0, 0.0],\n",
       "       ['0.0000', '0.0000', '0.0000', ..., 1.0, 0.0, 0.0],\n",
       "       ['0.0000', '0.0000', '0.0000', ..., 1.0, 0.0, 0.0]], dtype=object)"
      ]
     },
     "execution_count": 19,
     "metadata": {},
     "output_type": "execute_result"
    }
   ],
   "source": [
    "experiments[0].data.values"
   ]
  },
  {
   "cell_type": "code",
   "execution_count": null,
   "id": "37e5282e-dafa-43e0-abeb-8e7f3b7486e6",
   "metadata": {
    "scrolled": true
   },
   "outputs": [],
   "source": [
    "# [TODO] copied from gpt\n",
    "\n",
    "# Reshape data to (samples, timesteps, features)\n",
    "data = data.reshape((data.shape[0], data.shape[1], 1))\n",
    "\n",
    "# Normalize data\n",
    "scaler = MinMaxScaler()\n",
    "data = scaler.fit_transform(data.reshape(-1, data.shape[-1])).reshape(data.shape)\n",
    "\n",
    "# Split data into training and testing\n",
    "X_train, X_test, y_train, y_test = train_test_split(data, labels, test_size=0.2, random_state=42)\n"
   ]
  },
  {
   "cell_type": "code",
   "execution_count": 10,
   "id": "0b0908d5-a3d4-437b-80d7-422893f1d07f",
   "metadata": {},
   "outputs": [
    {
     "ename": "NameError",
     "evalue": "name 'X_train' is not defined",
     "output_type": "error",
     "traceback": [
      "\u001b[1;31m---------------------------------------------------------------------------\u001b[0m",
      "\u001b[1;31mNameError\u001b[0m                                 Traceback (most recent call last)",
      "\u001b[1;32m~\\AppData\\Local\\Temp/ipykernel_13040/1521776763.py\u001b[0m in \u001b[0;36m<module>\u001b[1;34m\u001b[0m\n\u001b[0;32m      5\u001b[0m \u001b[1;33m\u001b[0m\u001b[0m\n\u001b[0;32m      6\u001b[0m \u001b[0mmodel\u001b[0m \u001b[1;33m=\u001b[0m \u001b[0mSequential\u001b[0m\u001b[1;33m(\u001b[0m\u001b[1;33m)\u001b[0m\u001b[1;33m\u001b[0m\u001b[1;33m\u001b[0m\u001b[0m\n\u001b[1;32m----> 7\u001b[1;33m \u001b[0mmodel\u001b[0m\u001b[1;33m.\u001b[0m\u001b[0madd\u001b[0m\u001b[1;33m(\u001b[0m\u001b[0mLSTM\u001b[0m\u001b[1;33m(\u001b[0m\u001b[1;36m50\u001b[0m\u001b[1;33m,\u001b[0m \u001b[0mactivation\u001b[0m\u001b[1;33m=\u001b[0m\u001b[1;34m'relu'\u001b[0m\u001b[1;33m,\u001b[0m \u001b[0minput_shape\u001b[0m\u001b[1;33m=\u001b[0m\u001b[1;33m(\u001b[0m\u001b[0mX_train\u001b[0m\u001b[1;33m.\u001b[0m\u001b[0mshape\u001b[0m\u001b[1;33m[\u001b[0m\u001b[1;36m1\u001b[0m\u001b[1;33m]\u001b[0m\u001b[1;33m,\u001b[0m \u001b[0mX_train\u001b[0m\u001b[1;33m.\u001b[0m\u001b[0mshape\u001b[0m\u001b[1;33m[\u001b[0m\u001b[1;36m2\u001b[0m\u001b[1;33m]\u001b[0m\u001b[1;33m)\u001b[0m\u001b[1;33m)\u001b[0m\u001b[1;33m)\u001b[0m\u001b[1;33m\u001b[0m\u001b[1;33m\u001b[0m\u001b[0m\n\u001b[0m\u001b[0;32m      8\u001b[0m \u001b[0mmodel\u001b[0m\u001b[1;33m.\u001b[0m\u001b[0madd\u001b[0m\u001b[1;33m(\u001b[0m\u001b[0mDense\u001b[0m\u001b[1;33m(\u001b[0m\u001b[1;36m1\u001b[0m\u001b[1;33m)\u001b[0m\u001b[1;33m)\u001b[0m\u001b[1;33m\u001b[0m\u001b[1;33m\u001b[0m\u001b[0m\n\u001b[0;32m      9\u001b[0m \u001b[0mmodel\u001b[0m\u001b[1;33m.\u001b[0m\u001b[0mcompile\u001b[0m\u001b[1;33m(\u001b[0m\u001b[0moptimizer\u001b[0m\u001b[1;33m=\u001b[0m\u001b[1;34m'adam'\u001b[0m\u001b[1;33m,\u001b[0m \u001b[0mloss\u001b[0m\u001b[1;33m=\u001b[0m\u001b[1;34m'mse'\u001b[0m\u001b[1;33m)\u001b[0m\u001b[1;33m\u001b[0m\u001b[1;33m\u001b[0m\u001b[0m\n",
      "\u001b[1;31mNameError\u001b[0m: name 'X_train' is not defined"
     ]
    }
   ],
   "source": [
    "# [TODO] copied from gpt\n",
    "\n",
    "from tensorflow.keras.models import Sequential\n",
    "from tensorflow.keras.layers import LSTM, Dense\n",
    "\n",
    "model = Sequential()\n",
    "model.add(LSTM(50, activation='relu', input_shape=(X_train.shape[1], X_train.shape[2])))\n",
    "model.add(Dense(1))\n",
    "model.compile(optimizer='adam', loss='mse')\n",
    "\n",
    "model.summary()"
   ]
  },
  {
   "cell_type": "code",
   "execution_count": null,
   "id": "bee7354d-73aa-4e61-9df3-f6f6e5d2fffb",
   "metadata": {
    "scrolled": true
   },
   "outputs": [],
   "source": [
    "# [TODO] copied from gpt\n",
    "\n",
    "history = model.fit(X_train, y_train, epochs=200, batch_size=32, validation_data=(X_test, y_test), verbose=1)"
   ]
  },
  {
   "cell_type": "code",
   "execution_count": null,
   "id": "fbb7d186-d0cc-41a1-883d-cb2b59ca3c6b",
   "metadata": {},
   "outputs": [],
   "source": [
    "# [TODO] copied from gpt\n",
    "\n",
    "loss = model.evaluate(X_test, y_test, verbose=0)\n",
    "print(f'Test Loss: {loss}')"
   ]
  },
  {
   "cell_type": "code",
   "execution_count": null,
   "id": "ac481270-0432-4220-b4c7-b4e4c72ba0bd",
   "metadata": {},
   "outputs": [],
   "source": [
    "# [TODO] copied from gpt\n",
    "\n",
    "predictions = model.predict(X_test)\n",
    "print(predictions[:5])"
   ]
  },
  {
   "cell_type": "code",
   "execution_count": null,
   "id": "79e7569d-c9fb-48b3-83e6-f32fefe8d9f4",
   "metadata": {},
   "outputs": [],
   "source": []
  },
  {
   "cell_type": "code",
   "execution_count": null,
   "id": "357f8a27-0520-48e2-8f58-ede134f0e878",
   "metadata": {},
   "outputs": [],
   "source": []
  },
  {
   "cell_type": "code",
   "execution_count": null,
   "id": "5aaba5bd-0a81-4b0f-a4f3-344dcb4e5eee",
   "metadata": {},
   "outputs": [],
   "source": []
  },
  {
   "cell_type": "code",
   "execution_count": 7,
   "id": "1def2fa4",
   "metadata": {},
   "outputs": [],
   "source": [
    "master = pd.concat([df[['Participant', 'Stimulus']].drop_duplicates() for df in dfs], ignore_index=True)"
   ]
  },
  {
   "cell_type": "code",
   "execution_count": 8,
   "id": "4029897e",
   "metadata": {},
   "outputs": [
    {
     "data": {
      "text/html": [
       "<div>\n",
       "<style scoped>\n",
       "    .dataframe tbody tr th:only-of-type {\n",
       "        vertical-align: middle;\n",
       "    }\n",
       "\n",
       "    .dataframe tbody tr th {\n",
       "        vertical-align: top;\n",
       "    }\n",
       "\n",
       "    .dataframe thead th {\n",
       "        text-align: right;\n",
       "    }\n",
       "</style>\n",
       "<table border=\"1\" class=\"dataframe\">\n",
       "  <thead>\n",
       "    <tr style=\"text-align: right;\">\n",
       "      <th></th>\n",
       "      <th>Participant</th>\n",
       "      <th>Stimulus</th>\n",
       "    </tr>\n",
       "  </thead>\n",
       "  <tbody>\n",
       "    <tr>\n",
       "      <th>0</th>\n",
       "      <td>50</td>\n",
       "      <td>20 eye tracking (ballon droite).avi</td>\n",
       "    </tr>\n",
       "    <tr>\n",
       "      <th>1</th>\n",
       "      <td>52</td>\n",
       "      <td>20 eye tracking (ballon droite).avi</td>\n",
       "    </tr>\n",
       "    <tr>\n",
       "      <th>2</th>\n",
       "      <td>49</td>\n",
       "      <td>20 eye tracking (ballon droite).avi</td>\n",
       "    </tr>\n",
       "    <tr>\n",
       "      <th>3</th>\n",
       "      <td>55</td>\n",
       "      <td>20 eye tracking (ballon droite).avi</td>\n",
       "    </tr>\n",
       "    <tr>\n",
       "      <th>4</th>\n",
       "      <td>53</td>\n",
       "      <td>20 eye tracking (ballon droite).avi</td>\n",
       "    </tr>\n",
       "    <tr>\n",
       "      <th>...</th>\n",
       "      <td>...</td>\n",
       "      <td>...</td>\n",
       "    </tr>\n",
       "    <tr>\n",
       "      <th>2904</th>\n",
       "      <td>39</td>\n",
       "      <td>FEDE Drte.avi</td>\n",
       "    </tr>\n",
       "    <tr>\n",
       "      <th>2905</th>\n",
       "      <td>37</td>\n",
       "      <td>FEDE Drte.avi</td>\n",
       "    </tr>\n",
       "    <tr>\n",
       "      <th>2906</th>\n",
       "      <td>30</td>\n",
       "      <td>FEDE Drte.avi</td>\n",
       "    </tr>\n",
       "    <tr>\n",
       "      <th>2907</th>\n",
       "      <td>23</td>\n",
       "      <td>FEDE Drte.avi</td>\n",
       "    </tr>\n",
       "    <tr>\n",
       "      <th>2908</th>\n",
       "      <td>27</td>\n",
       "      <td>FEDE Drte.avi</td>\n",
       "    </tr>\n",
       "  </tbody>\n",
       "</table>\n",
       "<p>2909 rows × 2 columns</p>\n",
       "</div>"
      ],
      "text/plain": [
       "     Participant                             Stimulus\n",
       "0             50  20 eye tracking (ballon droite).avi\n",
       "1             52  20 eye tracking (ballon droite).avi\n",
       "2             49  20 eye tracking (ballon droite).avi\n",
       "3             55  20 eye tracking (ballon droite).avi\n",
       "4             53  20 eye tracking (ballon droite).avi\n",
       "...          ...                                  ...\n",
       "2904          39                        FEDE Drte.avi\n",
       "2905          37                        FEDE Drte.avi\n",
       "2906          30                        FEDE Drte.avi\n",
       "2907          23                        FEDE Drte.avi\n",
       "2908          27                        FEDE Drte.avi\n",
       "\n",
       "[2909 rows x 2 columns]"
      ]
     },
     "execution_count": 8,
     "metadata": {},
     "output_type": "execute_result"
    }
   ],
   "source": [
    "master"
   ]
  },
  {
   "cell_type": "code",
   "execution_count": 9,
   "id": "10ca9e9e",
   "metadata": {},
   "outputs": [],
   "source": [
    "master = master.applymap(str).drop_duplicates()"
   ]
  },
  {
   "cell_type": "code",
   "execution_count": 10,
   "id": "043c27ac",
   "metadata": {},
   "outputs": [
    {
     "data": {
      "text/html": [
       "<div>\n",
       "<style scoped>\n",
       "    .dataframe tbody tr th:only-of-type {\n",
       "        vertical-align: middle;\n",
       "    }\n",
       "\n",
       "    .dataframe tbody tr th {\n",
       "        vertical-align: top;\n",
       "    }\n",
       "\n",
       "    .dataframe thead th {\n",
       "        text-align: right;\n",
       "    }\n",
       "</style>\n",
       "<table border=\"1\" class=\"dataframe\">\n",
       "  <thead>\n",
       "    <tr style=\"text-align: right;\">\n",
       "      <th></th>\n",
       "      <th>Participant</th>\n",
       "      <th>Stimulus</th>\n",
       "    </tr>\n",
       "  </thead>\n",
       "  <tbody>\n",
       "    <tr>\n",
       "      <th>0</th>\n",
       "      <td>50</td>\n",
       "      <td>20 eye tracking (ballon droite).avi</td>\n",
       "    </tr>\n",
       "    <tr>\n",
       "      <th>1</th>\n",
       "      <td>52</td>\n",
       "      <td>20 eye tracking (ballon droite).avi</td>\n",
       "    </tr>\n",
       "    <tr>\n",
       "      <th>2</th>\n",
       "      <td>49</td>\n",
       "      <td>20 eye tracking (ballon droite).avi</td>\n",
       "    </tr>\n",
       "    <tr>\n",
       "      <th>3</th>\n",
       "      <td>55</td>\n",
       "      <td>20 eye tracking (ballon droite).avi</td>\n",
       "    </tr>\n",
       "    <tr>\n",
       "      <th>4</th>\n",
       "      <td>53</td>\n",
       "      <td>20 eye tracking (ballon droite).avi</td>\n",
       "    </tr>\n",
       "    <tr>\n",
       "      <th>...</th>\n",
       "      <td>...</td>\n",
       "      <td>...</td>\n",
       "    </tr>\n",
       "    <tr>\n",
       "      <th>2903</th>\n",
       "      <td>39</td>\n",
       "      <td>FEDE Drte.avi</td>\n",
       "    </tr>\n",
       "    <tr>\n",
       "      <th>2905</th>\n",
       "      <td>37</td>\n",
       "      <td>FEDE Drte.avi</td>\n",
       "    </tr>\n",
       "    <tr>\n",
       "      <th>2906</th>\n",
       "      <td>30</td>\n",
       "      <td>FEDE Drte.avi</td>\n",
       "    </tr>\n",
       "    <tr>\n",
       "      <th>2907</th>\n",
       "      <td>23</td>\n",
       "      <td>FEDE Drte.avi</td>\n",
       "    </tr>\n",
       "    <tr>\n",
       "      <th>2908</th>\n",
       "      <td>27</td>\n",
       "      <td>FEDE Drte.avi</td>\n",
       "    </tr>\n",
       "  </tbody>\n",
       "</table>\n",
       "<p>2547 rows × 2 columns</p>\n",
       "</div>"
      ],
      "text/plain": [
       "     Participant                             Stimulus\n",
       "0             50  20 eye tracking (ballon droite).avi\n",
       "1             52  20 eye tracking (ballon droite).avi\n",
       "2             49  20 eye tracking (ballon droite).avi\n",
       "3             55  20 eye tracking (ballon droite).avi\n",
       "4             53  20 eye tracking (ballon droite).avi\n",
       "...          ...                                  ...\n",
       "2903          39                        FEDE Drte.avi\n",
       "2905          37                        FEDE Drte.avi\n",
       "2906          30                        FEDE Drte.avi\n",
       "2907          23                        FEDE Drte.avi\n",
       "2908          27                        FEDE Drte.avi\n",
       "\n",
       "[2547 rows x 2 columns]"
      ]
     },
     "execution_count": 10,
     "metadata": {},
     "output_type": "execute_result"
    }
   ],
   "source": [
    "master"
   ]
  },
  {
   "cell_type": "code",
   "execution_count": 26,
   "id": "4ceeb280",
   "metadata": {},
   "outputs": [
    {
     "data": {
      "text/html": [
       "<div>\n",
       "<style scoped>\n",
       "    .dataframe tbody tr th:only-of-type {\n",
       "        vertical-align: middle;\n",
       "    }\n",
       "\n",
       "    .dataframe tbody tr th {\n",
       "        vertical-align: top;\n",
       "    }\n",
       "\n",
       "    .dataframe thead th {\n",
       "        text-align: right;\n",
       "    }\n",
       "</style>\n",
       "<table border=\"1\" class=\"dataframe\">\n",
       "  <thead>\n",
       "    <tr style=\"text-align: right;\">\n",
       "      <th></th>\n",
       "      <th>Participant</th>\n",
       "      <th>Trial</th>\n",
       "    </tr>\n",
       "  </thead>\n",
       "  <tbody>\n",
       "    <tr>\n",
       "      <th>0</th>\n",
       "      <td>50</td>\n",
       "      <td>Trial020</td>\n",
       "    </tr>\n",
       "    <tr>\n",
       "      <th>1</th>\n",
       "      <td>52</td>\n",
       "      <td>Trial020</td>\n",
       "    </tr>\n",
       "    <tr>\n",
       "      <th>2</th>\n",
       "      <td>49</td>\n",
       "      <td>Trial020</td>\n",
       "    </tr>\n",
       "    <tr>\n",
       "      <th>3</th>\n",
       "      <td>55</td>\n",
       "      <td>Trial020</td>\n",
       "    </tr>\n",
       "    <tr>\n",
       "      <th>4</th>\n",
       "      <td>53</td>\n",
       "      <td>Trial020</td>\n",
       "    </tr>\n",
       "    <tr>\n",
       "      <th>...</th>\n",
       "      <td>...</td>\n",
       "      <td>...</td>\n",
       "    </tr>\n",
       "    <tr>\n",
       "      <th>2912</th>\n",
       "      <td>24</td>\n",
       "      <td>Trial001</td>\n",
       "    </tr>\n",
       "    <tr>\n",
       "      <th>2919</th>\n",
       "      <td>25</td>\n",
       "      <td>Trial019</td>\n",
       "    </tr>\n",
       "    <tr>\n",
       "      <th>2920</th>\n",
       "      <td>26</td>\n",
       "      <td>Trial019</td>\n",
       "    </tr>\n",
       "    <tr>\n",
       "      <th>3231</th>\n",
       "      <td>Unidentified(Pos)</td>\n",
       "      <td>Trial010</td>\n",
       "    </tr>\n",
       "    <tr>\n",
       "      <th>3321</th>\n",
       "      <td>15</td>\n",
       "      <td>Trial010</td>\n",
       "    </tr>\n",
       "  </tbody>\n",
       "</table>\n",
       "<p>1530 rows × 2 columns</p>\n",
       "</div>"
      ],
      "text/plain": [
       "            Participant     Trial\n",
       "0                    50  Trial020\n",
       "1                    52  Trial020\n",
       "2                    49  Trial020\n",
       "3                    55  Trial020\n",
       "4                    53  Trial020\n",
       "...                 ...       ...\n",
       "2912                 24  Trial001\n",
       "2919                 25  Trial019\n",
       "2920                 26  Trial019\n",
       "3231  Unidentified(Pos)  Trial010\n",
       "3321                 15  Trial010\n",
       "\n",
       "[1530 rows x 2 columns]"
      ]
     },
     "execution_count": 26,
     "metadata": {},
     "output_type": "execute_result"
    }
   ],
   "source": [
    "master = master.applymap(str).drop_duplicates()\n",
    "\n",
    "master"
   ]
  },
  {
   "cell_type": "code",
   "execution_count": 27,
   "id": "f717f602",
   "metadata": {},
   "outputs": [
    {
     "data": {
      "text/plain": [
       "array(['50', '52', '49', '55', '53', '46', '42', 'Unidentified(Neg)',\n",
       "       'Unidentified(Pos)', '20', '19', '27', '17', '15', '21', '23',\n",
       "       '28', '18', '43', '48', '51', '44', '45', '47', '13', '14', '54',\n",
       "       '59', '25', '26', '58', '29', '56', '30', '57', '31', '36', '2',\n",
       "       '3', '4', '5', '6', '1', '9', '10', '8', '34', '40', '38', '32',\n",
       "       '35', '11', '33', '39', '37', '7', '41', '22', '24'], dtype=object)"
      ]
     },
     "execution_count": 27,
     "metadata": {},
     "output_type": "execute_result"
    }
   ],
   "source": [
    "master['Participant'].unique()"
   ]
  },
  {
   "cell_type": "code",
   "execution_count": null,
   "id": "8a24d765",
   "metadata": {},
   "outputs": [],
   "source": []
  }
 ],
 "metadata": {
  "kernelspec": {
   "display_name": "Python 3 (ipykernel)",
   "language": "python",
   "name": "python3"
  },
  "language_info": {
   "codemirror_mode": {
    "name": "ipython",
    "version": 3
   },
   "file_extension": ".py",
   "mimetype": "text/x-python",
   "name": "python",
   "nbconvert_exporter": "python",
   "pygments_lexer": "ipython3",
   "version": "3.9.9"
  }
 },
 "nbformat": 4,
 "nbformat_minor": 5
}
